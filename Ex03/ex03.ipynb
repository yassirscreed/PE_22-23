{
 "cells": [
  {
   "cell_type": "code",
   "execution_count": 6,
   "metadata": {
    "vscode": {
     "languageId": "r"
    }
   },
   "outputs": [],
   "source": [
    "# import txt file library\n",
    "library(\"readr\")\n",
    "library(\"ggplot2\")\n",
    "library(\"tidyr\")\n",
    "library(\"dplyr\")"
   ]
  },
  {
   "cell_type": "code",
   "execution_count": 7,
   "metadata": {
    "vscode": {
     "languageId": "r"
    }
   },
   "outputs": [
    {
     "data": {
      "text/html": [
       "<table class=\"dataframe\">\n",
       "<caption>A spec_tbl_df: 6 × 19</caption>\n",
       "<thead>\n",
       "\t<tr><th scope=col>COU</th><th scope=col>Country</th><th scope=col>IND</th><th scope=col>Indicator</th><th scope=col>SEX</th><th scope=col>Sex</th><th scope=col>AGE</th><th scope=col>Age Group</th><th scope=col>TIME</th><th scope=col>Time</th><th scope=col>Unit Code</th><th scope=col>Unit</th><th scope=col>PowerCode Code</th><th scope=col>PowerCode</th><th scope=col>Reference Period Code</th><th scope=col>Reference Period</th><th scope=col>Value</th><th scope=col>Flag Codes</th><th scope=col>Flags</th></tr>\n",
       "\t<tr><th scope=col>&lt;chr&gt;</th><th scope=col>&lt;chr&gt;</th><th scope=col>&lt;chr&gt;</th><th scope=col>&lt;chr&gt;</th><th scope=col>&lt;chr&gt;</th><th scope=col>&lt;chr&gt;</th><th scope=col>&lt;chr&gt;</th><th scope=col>&lt;chr&gt;</th><th scope=col>&lt;dbl&gt;</th><th scope=col>&lt;dbl&gt;</th><th scope=col>&lt;chr&gt;</th><th scope=col>&lt;chr&gt;</th><th scope=col>&lt;dbl&gt;</th><th scope=col>&lt;chr&gt;</th><th scope=col>&lt;lgl&gt;</th><th scope=col>&lt;lgl&gt;</th><th scope=col>&lt;dbl&gt;</th><th scope=col>&lt;chr&gt;</th><th scope=col>&lt;chr&gt;</th></tr>\n",
       "</thead>\n",
       "<tbody>\n",
       "\t<tr><td>SWE</td><td>Sweden</td><td>EMP3</td><td>Unemployment rate, by sex and age group</td><td>WOMEN</td><td>Women</td><td>1524</td><td>15-24</td><td>2010</td><td>2010</td><td>PC</td><td>Percentage</td><td>0</td><td>Units</td><td>NA</td><td>NA</td><td>23.6</td><td>NA</td><td>NA</td></tr>\n",
       "\t<tr><td>SWE</td><td>Sweden</td><td>EMP3</td><td>Unemployment rate, by sex and age group</td><td>MEN  </td><td>Men  </td><td>1524</td><td>15-24</td><td>2010</td><td>2010</td><td>PC</td><td>Percentage</td><td>0</td><td>Units</td><td>NA</td><td>NA</td><td>25.9</td><td>NA</td><td>NA</td></tr>\n",
       "\t<tr><td>SWE</td><td>Sweden</td><td>EMP3</td><td>Unemployment rate, by sex and age group</td><td>MEN  </td><td>Men  </td><td>2554</td><td>25-54</td><td>2010</td><td>2010</td><td>PC</td><td>Percentage</td><td>0</td><td>Units</td><td>NA</td><td>NA</td><td> 6.3</td><td>NA</td><td>NA</td></tr>\n",
       "\t<tr><td>SWE</td><td>Sweden</td><td>EMP3</td><td>Unemployment rate, by sex and age group</td><td>WOMEN</td><td>Women</td><td>2554</td><td>25-54</td><td>2010</td><td>2010</td><td>PC</td><td>Percentage</td><td>0</td><td>Units</td><td>NA</td><td>NA</td><td> 6.6</td><td>NA</td><td>NA</td></tr>\n",
       "\t<tr><td>SWE</td><td>Sweden</td><td>EMP3</td><td>Unemployment rate, by sex and age group</td><td>MEN  </td><td>Men  </td><td>5564</td><td>55-64</td><td>2010</td><td>2010</td><td>PC</td><td>Percentage</td><td>0</td><td>Units</td><td>NA</td><td>NA</td><td> 6.6</td><td>NA</td><td>NA</td></tr>\n",
       "\t<tr><td>SWE</td><td>Sweden</td><td>EMP3</td><td>Unemployment rate, by sex and age group</td><td>WOMEN</td><td>Women</td><td>5564</td><td>55-64</td><td>2010</td><td>2010</td><td>PC</td><td>Percentage</td><td>0</td><td>Units</td><td>NA</td><td>NA</td><td> 4.8</td><td>NA</td><td>NA</td></tr>\n",
       "</tbody>\n",
       "</table>\n"
      ],
      "text/latex": [
       "A spec\\_tbl\\_df: 6 × 19\n",
       "\\begin{tabular}{lllllllllllllllllll}\n",
       " COU & Country & IND & Indicator & SEX & Sex & AGE & Age Group & TIME & Time & Unit Code & Unit & PowerCode Code & PowerCode & Reference Period Code & Reference Period & Value & Flag Codes & Flags\\\\\n",
       " <chr> & <chr> & <chr> & <chr> & <chr> & <chr> & <chr> & <chr> & <dbl> & <dbl> & <chr> & <chr> & <dbl> & <chr> & <lgl> & <lgl> & <dbl> & <chr> & <chr>\\\\\n",
       "\\hline\n",
       "\t SWE & Sweden & EMP3 & Unemployment rate, by sex and age group & WOMEN & Women & 1524 & 15-24 & 2010 & 2010 & PC & Percentage & 0 & Units & NA & NA & 23.6 & NA & NA\\\\\n",
       "\t SWE & Sweden & EMP3 & Unemployment rate, by sex and age group & MEN   & Men   & 1524 & 15-24 & 2010 & 2010 & PC & Percentage & 0 & Units & NA & NA & 25.9 & NA & NA\\\\\n",
       "\t SWE & Sweden & EMP3 & Unemployment rate, by sex and age group & MEN   & Men   & 2554 & 25-54 & 2010 & 2010 & PC & Percentage & 0 & Units & NA & NA &  6.3 & NA & NA\\\\\n",
       "\t SWE & Sweden & EMP3 & Unemployment rate, by sex and age group & WOMEN & Women & 2554 & 25-54 & 2010 & 2010 & PC & Percentage & 0 & Units & NA & NA &  6.6 & NA & NA\\\\\n",
       "\t SWE & Sweden & EMP3 & Unemployment rate, by sex and age group & MEN   & Men   & 5564 & 55-64 & 2010 & 2010 & PC & Percentage & 0 & Units & NA & NA &  6.6 & NA & NA\\\\\n",
       "\t SWE & Sweden & EMP3 & Unemployment rate, by sex and age group & WOMEN & Women & 5564 & 55-64 & 2010 & 2010 & PC & Percentage & 0 & Units & NA & NA &  4.8 & NA & NA\\\\\n",
       "\\end{tabular}\n"
      ],
      "text/markdown": [
       "\n",
       "A spec_tbl_df: 6 × 19\n",
       "\n",
       "| COU &lt;chr&gt; | Country &lt;chr&gt; | IND &lt;chr&gt; | Indicator &lt;chr&gt; | SEX &lt;chr&gt; | Sex &lt;chr&gt; | AGE &lt;chr&gt; | Age Group &lt;chr&gt; | TIME &lt;dbl&gt; | Time &lt;dbl&gt; | Unit Code &lt;chr&gt; | Unit &lt;chr&gt; | PowerCode Code &lt;dbl&gt; | PowerCode &lt;chr&gt; | Reference Period Code &lt;lgl&gt; | Reference Period &lt;lgl&gt; | Value &lt;dbl&gt; | Flag Codes &lt;chr&gt; | Flags &lt;chr&gt; |\n",
       "|---|---|---|---|---|---|---|---|---|---|---|---|---|---|---|---|---|---|---|\n",
       "| SWE | Sweden | EMP3 | Unemployment rate, by sex and age group | WOMEN | Women | 1524 | 15-24 | 2010 | 2010 | PC | Percentage | 0 | Units | NA | NA | 23.6 | NA | NA |\n",
       "| SWE | Sweden | EMP3 | Unemployment rate, by sex and age group | MEN   | Men   | 1524 | 15-24 | 2010 | 2010 | PC | Percentage | 0 | Units | NA | NA | 25.9 | NA | NA |\n",
       "| SWE | Sweden | EMP3 | Unemployment rate, by sex and age group | MEN   | Men   | 2554 | 25-54 | 2010 | 2010 | PC | Percentage | 0 | Units | NA | NA |  6.3 | NA | NA |\n",
       "| SWE | Sweden | EMP3 | Unemployment rate, by sex and age group | WOMEN | Women | 2554 | 25-54 | 2010 | 2010 | PC | Percentage | 0 | Units | NA | NA |  6.6 | NA | NA |\n",
       "| SWE | Sweden | EMP3 | Unemployment rate, by sex and age group | MEN   | Men   | 5564 | 55-64 | 2010 | 2010 | PC | Percentage | 0 | Units | NA | NA |  6.6 | NA | NA |\n",
       "| SWE | Sweden | EMP3 | Unemployment rate, by sex and age group | WOMEN | Women | 5564 | 55-64 | 2010 | 2010 | PC | Percentage | 0 | Units | NA | NA |  4.8 | NA | NA |\n",
       "\n"
      ],
      "text/plain": [
       "  COU Country IND  Indicator                               SEX   Sex   AGE \n",
       "1 SWE Sweden  EMP3 Unemployment rate, by sex and age group WOMEN Women 1524\n",
       "2 SWE Sweden  EMP3 Unemployment rate, by sex and age group MEN   Men   1524\n",
       "3 SWE Sweden  EMP3 Unemployment rate, by sex and age group MEN   Men   2554\n",
       "4 SWE Sweden  EMP3 Unemployment rate, by sex and age group WOMEN Women 2554\n",
       "5 SWE Sweden  EMP3 Unemployment rate, by sex and age group MEN   Men   5564\n",
       "6 SWE Sweden  EMP3 Unemployment rate, by sex and age group WOMEN Women 5564\n",
       "  Age Group TIME Time Unit Code Unit       PowerCode Code PowerCode\n",
       "1 15-24     2010 2010 PC        Percentage 0              Units    \n",
       "2 15-24     2010 2010 PC        Percentage 0              Units    \n",
       "3 25-54     2010 2010 PC        Percentage 0              Units    \n",
       "4 25-54     2010 2010 PC        Percentage 0              Units    \n",
       "5 55-64     2010 2010 PC        Percentage 0              Units    \n",
       "6 55-64     2010 2010 PC        Percentage 0              Units    \n",
       "  Reference Period Code Reference Period Value Flag Codes Flags\n",
       "1 NA                    NA               23.6  NA         NA   \n",
       "2 NA                    NA               25.9  NA         NA   \n",
       "3 NA                    NA                6.3  NA         NA   \n",
       "4 NA                    NA                6.6  NA         NA   \n",
       "5 NA                    NA                6.6  NA         NA   \n",
       "6 NA                    NA                4.8  NA         NA   "
      ]
     },
     "metadata": {},
     "output_type": "display_data"
    }
   ],
   "source": [
    "# import txt file\n",
    "data <- read_tsv(\"GENDER_EMP_19032023152556091.txt\", show_col_types = FALSE)\n",
    "\n",
    "# filter SEX to its just MEN and WOMEN\n",
    "data <- data %>% filter(SEX == \"MEN\" | SEX == \"WOMEN\")\n",
    "# filter data so EMP3 is in IND column\n",
    "data <- data %>% filter(IND == \"EMP3\")\n",
    "# filter data so AGE is 1524, 2554, 5564\n",
    "data <- data %>% filter(AGE == \"1524\" | AGE == \"2554\" | AGE == \"5564\")\n",
    "# Registados em 2010\n",
    "data <- data %>% filter(TIME == \"2010\")\n",
    "# Sweden\n",
    "data <- data %>% filter(COU == \"SWE\")\n",
    "\n",
    "data\n"
   ]
  },
  {
   "cell_type": "code",
   "execution_count": 13,
   "metadata": {
    "vscode": {
     "languageId": "r"
    }
   },
   "outputs": [
    {
     "name": "stderr",
     "output_type": "stream",
     "text": [
      "Warning message:\n",
      "“Unknown or uninitialised column: `AgeGroup`.”\n",
      "Warning message:\n",
      "“Unknown or uninitialised column: `AgeGroup`.”\n",
      "Warning message:\n",
      "“Unknown or uninitialised column: `AgeGroup`.”\n",
      "Warning message:\n",
      "“Unknown or uninitialised column: `AgeGroup`.”\n",
      "Warning message:\n",
      "“Unknown or uninitialised column: `AgeGroup`.”\n",
      "Warning message:\n",
      "“Unknown or uninitialised column: `AgeGroup`.”\n"
     ]
    },
    {
     "ename": "ERROR",
     "evalue": "Error in data.frame(Age_Group = factor(c(data$AgeGroup[1], data$AgeGroup[2], : arguments imply differing number of rows: 0, 6\n",
     "output_type": "error",
     "traceback": [
      "Error in data.frame(Age_Group = factor(c(data$AgeGroup[1], data$AgeGroup[2], : arguments imply differing number of rows: 0, 6\nTraceback:\n",
      "1. data.frame(Age_Group = factor(c(data$AgeGroup[1], data$AgeGroup[2], \n .     data$AgeGroup[3], data$AgeGroup[4], data$AgeGroup[5], data$AgeGroup[6]), \n .     levels = c(\"15-24\", \"25-54\", \"55-64\")), Sex = factor(c(data$SEX[1], \n .     data$SEX[2], data$SEX[3], data$SEX[4], data$SEX[5], data$SEX[6]), \n .     levels = c(\"Men\", \"Women\")), EMP3 = c(data$Value[1], data$Value[2], \n .     data$Value[3], data$Value[4], data$Value[5], data$Value[6]))",
      "2. stop(gettextf(\"arguments imply differing number of rows: %s\", \n .     paste(unique(nrows), collapse = \", \")), domain = NA)"
     ]
    }
   ],
   "source": [
    "#Organize data frame to be used in ggplot\n",
    "dados <- data.frame(\n",
    "  Age_Group = factor(c(data$AGE[1], data$AGE[2], data$AGE[3], data$AGE[4], data$AGE[5], data$AGE[6]), \n",
    "                     levels = c(\"15-24\", \"25-54\", \"55-64\")),\n",
    "  Sex = factor(c(data$SEX[1], data$SEX[2], data$SEX[3], data$SEX[4], data$SEX[5], data$SEX[6]),\n",
    "               levels = c(\"Men\", \"Women\")),\n",
    "  EMP3 = c(data$Value[1], data$Value[2], data$Value[3], data$Value[4], data$Value[5], data$Value[6]))\n",
    "  \n",
    "\n",
    "# Criar o gráfico de barras usando ggplot2\n",
    "grafico <- ggplot(dados, aes(x = Age_Group, y = EMP3, fill = Sex)) +\n",
    "  geom_bar(stat = \"identity\", position = \"dodge\") +\n",
    "  theme_minimal() +\n",
    "  labs(title = \"Unemployement rate in Sweden (2010)\",\n",
    "       x = \"Age Group\",\n",
    "       y = \"Values\",\n",
    "       fill = \"Sex\")\n",
    "\n",
    "\n",
    "# Mostrar o gráfico\n",
    "grafico\n",
    "\n"
   ]
  }
 ],
 "metadata": {
  "kernelspec": {
   "display_name": "R",
   "language": "R",
   "name": "ir"
  },
  "language_info": {
   "codemirror_mode": "r",
   "file_extension": ".r",
   "mimetype": "text/x-r-source",
   "name": "R",
   "pygments_lexer": "r",
   "version": "4.2.3"
  },
  "orig_nbformat": 4
 },
 "nbformat": 4,
 "nbformat_minor": 2
}

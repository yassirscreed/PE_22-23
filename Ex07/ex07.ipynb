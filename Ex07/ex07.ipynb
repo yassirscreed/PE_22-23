{
 "cells": [
  {
   "cell_type": "code",
   "execution_count": 3,
   "metadata": {
    "vscode": {
     "languageId": "r"
    }
   },
   "outputs": [],
   "source": [
    "# Parameters \n",
    "set.seed(1204)\n",
    "m <- 1145\n",
    "n <- 16\n",
    "p <- 0.52\n",
    "samples <- replicate(m, rnorm(n, mean=0, sd=1))"
   ]
  },
  {
   "cell_type": "code",
   "execution_count": 4,
   "metadata": {
    "vscode": {
     "languageId": "r"
    }
   },
   "outputs": [],
   "source": [
    "# Soma dos quadrados para cada amostra\n",
    "soma_quadrados <- apply(samples, 1, function(x) sum(x^2))"
   ]
  },
  {
   "cell_type": "code",
   "execution_count": 5,
   "metadata": {
    "vscode": {
     "languageId": "r"
    }
   },
   "outputs": [],
   "source": [
    "# Calcular o quantil de probabilidade 0.52 para a amostra das somas dos quadrados e para a distribuição teórica\n",
    "\n",
    "sample_quantile <- quantile(soma_quadrados, p, type=2)\n",
    "theoretical_quantile <- qchisq(p, df=n) # lower.tail=FALSE not here bc you are comparing the quantile of the sample with the corresponding quantile in the theoretical distribution"
   ]
  },
  {
   "cell_type": "code",
   "execution_count": 6,
   "metadata": {
    "vscode": {
     "languageId": "r"
    }
   },
   "outputs": [
    {
     "data": {
      "text/html": [
       "<strong>52%:</strong> 1128.1911"
      ],
      "text/latex": [
       "\\textbf{52\\textbackslash{}\\%:} 1128.1911"
      ],
      "text/markdown": [
       "**52%:** 1128.1911"
      ],
      "text/plain": [
       "     52% \n",
       "1128.191 "
      ]
     },
     "metadata": {},
     "output_type": "display_data"
    }
   ],
   "source": [
    "# Calcular a diferença em valor absoluto\n",
    "difference <- abs(sample_quantile - theoretical_quantile)\n",
    "\n",
    "difference <- round(difference, 4)\n",
    "\n",
    "difference\n"
   ]
  }
 ],
 "metadata": {
  "kernelspec": {
   "display_name": "R",
   "language": "R",
   "name": "ir"
  },
  "language_info": {
   "codemirror_mode": "r",
   "file_extension": ".r",
   "mimetype": "text/x-r-source",
   "name": "R",
   "pygments_lexer": "r",
   "version": "4.2.3"
  },
  "orig_nbformat": 4
 },
 "nbformat": 4,
 "nbformat_minor": 2
}

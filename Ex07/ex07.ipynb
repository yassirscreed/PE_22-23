{
 "cells": [
  {
   "cell_type": "code",
   "execution_count": 24,
   "metadata": {
    "vscode": {
     "languageId": "r"
    }
   },
   "outputs": [],
   "source": [
    "# Parameters \n",
    "set.seed(1522)\n",
    "m <- 1546\n",
    "n <- 14\n",
    "p <- 0.43\n",
    "samples <- replicate(m, rnorm(n, mean=0, sd=1))"
   ]
  },
  {
   "cell_type": "code",
   "execution_count": 25,
   "metadata": {
    "vscode": {
     "languageId": "r"
    }
   },
   "outputs": [],
   "source": [
    "# Soma dos quadrados para cada amostra\n",
    "soma_quadrados <- apply(samples, 1, function(x) sum(x^2))"
   ]
  },
  {
   "cell_type": "code",
   "execution_count": 26,
   "metadata": {
    "vscode": {
     "languageId": "r"
    }
   },
   "outputs": [],
   "source": [
    "# Calcular o quantil de probabilidade 0.43 para a amostra das somas dos quadrados e para a distribuição teórica\n",
    "\n",
    "sample_quantile <- quantile(soma_quadrados, p, type=2)\n",
    "theoretical_quantile <- qchisq(p, df=n) # lower.tail=FALSE not here bc you are comparing the quantile of the sample with the corresponding quantile in the theoretical distribution"
   ]
  },
  {
   "cell_type": "code",
   "execution_count": 27,
   "metadata": {
    "vscode": {
     "languageId": "r"
    }
   },
   "outputs": [
    {
     "data": {
      "text/html": [
       "<strong>43%:</strong> 1539.5775"
      ],
      "text/latex": [
       "\\textbf{43\\textbackslash{}\\%:} 1539.5775"
      ],
      "text/markdown": [
       "**43%:** 1539.5775"
      ],
      "text/plain": [
       "     43% \n",
       "1539.578 "
      ]
     },
     "metadata": {},
     "output_type": "display_data"
    }
   ],
   "source": [
    "# Calcular a diferença em valor absoluto\n",
    "difference <- abs(sample_quantile - theoretical_quantile)\n",
    "\n",
    "difference <- round(difference, 4)\n",
    "\n",
    "difference\n"
   ]
  }
 ],
 "metadata": {
  "kernelspec": {
   "display_name": "R",
   "language": "R",
   "name": "ir"
  },
  "language_info": {
   "codemirror_mode": "r",
   "file_extension": ".r",
   "mimetype": "text/x-r-source",
   "name": "R",
   "pygments_lexer": "r",
   "version": "4.2.3"
  },
  "orig_nbformat": 4
 },
 "nbformat": 4,
 "nbformat_minor": 2
}

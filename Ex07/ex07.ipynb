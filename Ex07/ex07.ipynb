{
 "cells": [
  {
   "cell_type": "code",
   "execution_count": 17,
   "metadata": {
    "vscode": {
     "languageId": "r"
    }
   },
   "outputs": [
    {
     "data": {
      "text/html": [
       "<strong>52%:</strong> 0.0384"
      ],
      "text/latex": [
       "\\textbf{52\\textbackslash{}\\%:} 0.0384"
      ],
      "text/markdown": [
       "**52%:** 0.0384"
      ],
      "text/plain": [
       "   52% \n",
       "0.0384 "
      ]
     },
     "metadata": {},
     "output_type": "display_data"
    }
   ],
   "source": [
    "set.seed(1204)\n",
    "\n",
    "n = 16\n",
    "m = 1145\n",
    "p = 0.52\n",
    "\n",
    "# Geração das amostras e cálculo das somas dos quadrados\n",
    "amostras_soma_quadrados = replicate(m, sum(rnorm(n)^2))\n",
    "\n",
    "# Cálculo do quantil de probabilidade 0.52 das somas dos quadrados das amostras\n",
    "quantil_amostras = quantile(amostras_soma_quadrados, p, type = 2)\n",
    "\n",
    "# Cálculo do quantil de probabilidade 0.52 da distribuição teórica (distribuição qui-quadrado com n graus de liberdade)\n",
    "quantil_teorico = qchisq(p, df = n)\n",
    "\n",
    "# Diferença em valor absoluto entre os dois quantis\n",
    "dif_abs = abs(quantil_amostras - quantil_teorico)\n",
    "\n",
    "# Arredondando a diferença para 4 casas decimais\n",
    "dif_abs_arredondado = round(dif_abs, 4)\n",
    "\n",
    "dif_abs_arredondado"
   ]
  }
 ],
 "metadata": {
  "kernelspec": {
   "display_name": "R",
   "language": "R",
   "name": "ir"
  },
  "language_info": {
   "codemirror_mode": "r",
   "file_extension": ".r",
   "mimetype": "text/x-r-source",
   "name": "R",
   "pygments_lexer": "r",
   "version": "4.1.2"
  },
  "orig_nbformat": 4
 },
 "nbformat": 4,
 "nbformat_minor": 2
}

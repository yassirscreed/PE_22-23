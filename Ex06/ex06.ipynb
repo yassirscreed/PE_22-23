{
 "cells": [
  {
   "cell_type": "code",
   "execution_count": 2,
   "metadata": {
    "vscode": {
     "languageId": "r"
    }
   },
   "outputs": [
    {
     "name": "stdout",
     "output_type": "stream",
     "text": [
      "Probabilidade de X ser igual a 1 ou 7: 0.3590219 \n",
      "Fração de potências de dois no intervalo [22, 230] com primeiro algarismo igual a 1 ou 7: 0.3333333 \n",
      "Desvio absoluto entre os valores calculados em 1. e 2.: 0.02568861 \n",
      "Resultado arredondado a 4 casas decimais: 0.0257 \n"
     ]
    }
   ],
   "source": [
    "# Função de probabilidade de Benford\n",
    "P <- function(x) {\n",
    "  log10(1 + 1/x)\n",
    "}\n",
    "\n",
    "# 1. Calcule a probabilidade de X ser igual a 1 ou 7\n",
    "P_1 <- P(1)\n",
    "P_7 <- P(7)\n",
    "P_1_ou_7 <- P_1 + P_7\n",
    "\n",
    "# 2. Obtenha a fração de potências de dois no intervalo [22, 230] cujo primeiro algarismo é igual a 1 ou 7 (copilot)\n",
    "min_power <- ceiling(log2(22))\n",
    "max_power <- floor(log2(230))\n",
    "powers_of_two <- 2^(min_power:max_power)\n",
    "\n",
    "# Encontre o primeiro algarismo das potências de dois (copilot)\n",
    "first_digits <- floor(powers_of_two / 10^(floor(log10(powers_of_two))))\n",
    "\n",
    "# Calcule a fração de potências de dois com primeiro algarismo igual a 1 ou 7 (copilot)\n",
    "fraction_1_ou_7 <- sum(first_digits %in% c(1, 7)) / length(powers_of_two)\n",
    "\n",
    "# 3. Calcule o desvio absoluto entre os valores calculados em 1. e 2.\n",
    "abs_deviation <- abs(P_1_ou_7 - fraction_1_ou_7)\n",
    "\n",
    "# 4. Indique o resultado arredondado a 4 casas decimais\n",
    "rounded_abs_deviation <- round(abs_deviation, 4)\n",
    "\n",
    "# Imprima os resultados\n",
    "cat(\"Probabilidade de X ser igual a 1 ou 7:\", P_1_ou_7, \"\\n\")\n",
    "cat(\"Fração de potências de dois no intervalo [22, 230] com primeiro algarismo igual a 1 ou 7:\", fraction_1_ou_7, \"\\n\")\n",
    "cat(\"Desvio absoluto entre os valores calculados em 1. e 2.:\", abs_deviation, \"\\n\")\n",
    "cat(\"Resultado arredondado a 4 casas decimais:\", rounded_abs_deviation, \"\\n\")\n"
   ]
  }
 ],
 "metadata": {
  "kernelspec": {
   "display_name": "R",
   "language": "R",
   "name": "ir"
  },
  "language_info": {
   "codemirror_mode": "r",
   "file_extension": ".r",
   "mimetype": "text/x-r-source",
   "name": "R",
   "pygments_lexer": "r",
   "version": "4.2.3"
  },
  "orig_nbformat": 4
 },
 "nbformat": 4,
 "nbformat_minor": 2
}

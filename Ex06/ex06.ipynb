{
 "cells": [
  {
   "cell_type": "code",
   "execution_count": 2,
   "metadata": {
    "vscode": {
     "languageId": "r"
    }
   },
   "outputs": [
    {
     "name": "stdout",
     "output_type": "stream",
     "text": [
      "Probabilidade de X ser igual a 1 ou 8: 0.3521825 \n",
      "Fração de potências de dois no intervalo [2^6, 2^25] com primeiro algarismo igual a 1 ou 8: 0.4 \n",
      "Desvio absoluto entre os valores calculados em 1. e 2.: 0.04781748 \n",
      "Resultado arredondado a 4 casas decimais: 0.0478 \n"
     ]
    }
   ],
   "source": [
    "# Função de probabilidade da Distribuição de Benford\n",
    "P <- function(x) {\n",
    "  log10(1 + 1/x)\n",
    "}\n",
    "\n",
    "# Calcule a probabilidade de X ser igual a 1 ou 8\n",
    "P_1 <- P(1)\n",
    "P_8 <- P(8)\n",
    "P_1_ou_8 <- P_1 + P_8\n",
    "\n",
    "# Obtenha a fração de potências de dois no intervalo [2^6, 2^25]\n",
    "min_power <- ceiling(log2(2^6))\n",
    "max_power <- floor(log2(2^25))\n",
    "powers_of_two <- 2^(min_power:max_power)\n",
    "\n",
    "# Encontre o primeiro algarismo das potências de dois \n",
    "first_digits <- floor(powers_of_two / 10^(floor(log10(powers_of_two))))\n",
    "\n",
    "# Calcule a fração de potências de dois com primeiro algarismo igual a 1 ou 8\n",
    "fraction_1_ou_8 <- sum(first_digits %in% c(1, 8)) / length(powers_of_two)\n",
    "\n",
    "# Calcule o desvio absoluto entre os valores calculados em 1. e 2.\n",
    "abs_deviation <- abs(P_1_ou_8 - fraction_1_ou_8)\n",
    "\n",
    "# Indique o resultado arredondado a 4 casas decimais\n",
    "rounded_abs_deviation <- round(abs_deviation, 4)\n",
    "\n",
    "# Imprima os resultados\n",
    "cat(\"Probabilidade de X ser igual a 1 ou 8:\", P_1_ou_8, \"\\n\")\n",
    "cat(\"Fração de potências de dois no intervalo [2^6, 2^25] com primeiro algarismo igual a 1 ou 8:\", fraction_1_ou_8, \"\\n\")\n",
    "cat(\"Desvio absoluto entre os valores calculados em 1. e 2.:\", abs_deviation, \"\\n\")\n",
    "cat(\"Resultado arredondado a 4 casas decimais:\", rounded_abs_deviation, \"\\n\")"
   ]
  }
 ],
 "metadata": {
  "kernelspec": {
   "display_name": "R",
   "language": "R",
   "name": "ir"
  },
  "language_info": {
   "codemirror_mode": "r",
   "file_extension": ".r",
   "mimetype": "text/x-r-source",
   "name": "R",
   "pygments_lexer": "r",
   "version": "4.1.2"
  },
  "orig_nbformat": 4
 },
 "nbformat": 4,
 "nbformat_minor": 2
}

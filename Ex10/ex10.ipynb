{
 "cells": [
  {
   "cell_type": "code",
   "execution_count": 2,
   "metadata": {
    "vscode": {
     "languageId": "r"
    }
   },
   "outputs": [],
   "source": [
    "# Imports\n",
    "library(\"tidyverse\")"
   ]
  },
  {
   "cell_type": "code",
   "execution_count": 3,
   "metadata": {
    "vscode": {
     "languageId": "r"
    }
   },
   "outputs": [],
   "source": [
    "# Parâmetros\n",
    "set.seed(830)\n",
    "mu <- 48.9\n",
    "sigma <- 2\n",
    "n <- 24\n",
    "m <- 250\n",
    "mu_0 <- 47.7\n",
    "alpha <- 0.08"
   ]
  },
  {
   "cell_type": "code",
   "execution_count": 4,
   "metadata": {
    "vscode": {
     "languageId": "r"
    }
   },
   "outputs": [],
   "source": [
    "# Gerar m amostras de tamanho n\n",
    "samples <- replicate(m, rnorm(n, mean=mu, sd=sigma))\n",
    "\n",
    "# Função para realizar o teste de hipóteses\n",
    "perform_test <- function(sample) {\n",
    "  z <- (mean(sample) - mu_0) / (sigma / sqrt(n))\n",
    "  p_value <- 2 * (1 - pnorm(abs(z)))\n",
    "  return(p_value > alpha)\n",
    "}"
   ]
  },
  {
   "cell_type": "code",
   "execution_count": 5,
   "metadata": {
    "vscode": {
     "languageId": "r"
    }
   },
   "outputs": [
    {
     "data": {
      "text/html": [
       "0.144"
      ],
      "text/latex": [
       "0.144"
      ],
      "text/markdown": [
       "0.144"
      ],
      "text/plain": [
       "[1] 0.144"
      ]
     },
     "metadata": {},
     "output_type": "display_data"
    }
   ],
   "source": [
    "# Aplicar o teste de hipóteses para cada amostra\n",
    "results <- apply(samples, 2, perform_test)\n",
    "\n",
    "# Estimar a probabilidade de não rejeitar H0\n",
    "non_rejection_prob <- mean(results)\n",
    "\n",
    "# Mostrar o resultado com 3 casas decimais\n",
    "round(non_rejection_prob, 3)"
   ]
  }
 ],
 "metadata": {
  "kernelspec": {
   "display_name": "R",
   "language": "R",
   "name": "ir"
  },
  "language_info": {
   "codemirror_mode": "r",
   "file_extension": ".r",
   "mimetype": "text/x-r-source",
   "name": "R",
   "pygments_lexer": "r",
   "version": "4.2.3"
  },
  "orig_nbformat": 4
 },
 "nbformat": 4,
 "nbformat_minor": 2
}

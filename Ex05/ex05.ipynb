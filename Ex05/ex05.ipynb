{
 "cells": [
  {
   "cell_type": "code",
   "execution_count": 1,
   "metadata": {
    "vscode": {
     "languageId": "r"
    }
   },
   "outputs": [
    {
     "name": "stdout",
     "output_type": "stream",
     "text": [
      "[1] 0.3911\n"
     ]
    }
   ],
   "source": [
    "# Definir o parâmetro p\n",
    "p <- 0.3\n",
    "\n",
    "# Definir a semente\n",
    "set.seed(1602)\n",
    "\n",
    "# Simular 1028 valores uniformes\n",
    "u <- runif(1028)\n",
    "\n",
    "# Calcular a inversa da CDF\n",
    "x <- ceiling(log(1-u)/log(1-p)) - 1\n",
    "\n",
    "# Calcular a média e o desvio padrão\n",
    "media <- mean(x)\n",
    "dp <- sd(x)\n",
    "\n",
    "# Contar quantos valores são maiores que a soma da média e do desvio padrão,\n",
    "# de entre os que são superiores à média.\n",
    "count <- sum(x > media & x > media+dp)\n",
    "total <- sum(x > media)\n",
    "\n",
    "# Calcular a proporção\n",
    "prop <- count / total\n",
    "\n",
    "# Imprimir a proporção com 4 casas decimais\n",
    "print(round(prop, 4))"
   ]
  }
 ],
 "metadata": {
  "kernelspec": {
   "display_name": "R",
   "language": "R",
   "name": "ir"
  },
  "language_info": {
   "codemirror_mode": "r",
   "file_extension": ".r",
   "mimetype": "text/x-r-source",
   "name": "R",
   "pygments_lexer": "r",
   "version": "4.1.2"
  },
  "orig_nbformat": 4
 },
 "nbformat": 4,
 "nbformat_minor": 2
}

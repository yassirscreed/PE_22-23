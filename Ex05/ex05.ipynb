{
 "cells": [
  {
   "cell_type": "code",
   "execution_count": 2,
   "metadata": {
    "vscode": {
     "languageId": "r"
    }
   },
   "outputs": [],
   "source": [
    "# Imports\n",
    "library(\"tidyverse\")"
   ]
  },
  {
   "cell_type": "code",
   "execution_count": 3,
   "metadata": {
    "vscode": {
     "languageId": "r"
    }
   },
   "outputs": [],
   "source": [
    "# Parameters\n",
    "set.seed(1891)\n",
    "p <- 0.35\n",
    "n <- 1173"
   ]
  },
  {
   "cell_type": "code",
   "execution_count": 4,
   "metadata": {
    "vscode": {
     "languageId": "r"
    }
   },
   "outputs": [],
   "source": [
    "# Função para gerar um valor de X usando o método de transformação inversa\n",
    "generate_geometric <- function(p) {\n",
    "  u <- runif(1)\n",
    "  x <- floor(log(1 - u) / log(1 - p))\n",
    "  return(x)\n",
    "}"
   ]
  },
  {
   "cell_type": "code",
   "execution_count": 6,
   "metadata": {
    "vscode": {
     "languageId": "r"
    }
   },
   "outputs": [],
   "source": [
    "# Gerando a amostra\n",
    "sample <- sapply(1:n, function(i) generate_geometric(p))\n",
    "\n",
    "# Calculando média e desvio padrão amostral\n",
    "mean_sample <- mean(sample)\n",
    "sd_sample <- sd(sample)\n",
    "\n",
    "# Filtrando valores superiores à média amostral\n",
    "above_mean <- sample[sample > mean_sample]\n",
    "\n",
    "# Calculando a proporção de valores simulados superiores à soma da média com o desvio padrão amostrais\n",
    "proportion <- sum(above_mean > (mean_sample + sd_sample)) / length(above_mean)"
   ]
  },
  {
   "cell_type": "code",
   "execution_count": 7,
   "metadata": {
    "vscode": {
     "languageId": "r"
    }
   },
   "outputs": [
    {
     "name": "stdout",
     "output_type": "stream",
     "text": [
      "A proporção de valores simulados superiores à soma da média com o desvio padrão amostrais é  0.2778"
     ]
    }
   ],
   "source": [
    "# Apresentando o resultado com 4 casas decimais\n",
    "cat(\"A proporção de valores simulados superiores à soma da média com o desvio padrão amostrais é \", round(proportion, 4))"
   ]
  }
 ],
 "metadata": {
  "kernelspec": {
   "display_name": "R",
   "language": "R",
   "name": "ir"
  },
  "language_info": {
   "codemirror_mode": "r",
   "file_extension": ".r",
   "mimetype": "text/x-r-source",
   "name": "R",
   "pygments_lexer": "r",
   "version": "4.2.3"
  },
  "orig_nbformat": 4
 },
 "nbformat": 4,
 "nbformat_minor": 2
}

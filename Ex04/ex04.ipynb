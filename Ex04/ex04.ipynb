{
 "cells": [
  {
   "cell_type": "code",
   "execution_count": 41,
   "metadata": {
    "vscode": {
     "languageId": "r"
    }
   },
   "outputs": [],
   "source": [
    "# Imports\n",
    "library(\"tidyverse\")"
   ]
  },
  {
   "cell_type": "code",
   "execution_count": 42,
   "metadata": {
    "vscode": {
     "languageId": "r"
    }
   },
   "outputs": [],
   "source": [
    "# set seed and data\n",
    "set.seed(2975)\n",
    "k <- 4478\n",
    "lambda <- 24\n",
    "amostra <- rexp(k, rate = 1/lambda)"
   ]
  },
  {
   "cell_type": "code",
   "execution_count": 43,
   "metadata": {
    "vscode": {
     "languageId": "r"
    }
   },
   "outputs": [],
   "source": [
    "# soma sucessiva e valor de T\n",
    "cumulative_sum <- cumsum(samples)\n",
    "\n",
    "T <- ceiling(cumulative_sum[k])"
   ]
  },
  {
   "cell_type": "code",
   "execution_count": 44,
   "metadata": {
    "vscode": {
     "languageId": "r"
    }
   },
   "outputs": [],
   "source": [
    "# Divida o intervalo ]0,T] em intervalos de amplitude unitária e conte o número de acontecimentos em cada subintervalo\n",
    "interval_counts <- rep(0, T)\n",
    "\n",
    "for (i in 1:k) {\n",
    "  index <- floor(cumulative_sum[i]) + 1\n",
    "  interval_counts[index] <- interval_counts[index] + 1\n",
    "}"
   ]
  },
  {
   "cell_type": "code",
   "execution_count": 45,
   "metadata": {
    "vscode": {
     "languageId": "r"
    }
   },
   "outputs": [],
   "source": [
    "# Calcular a média do número de acontecimentos por subintervalo.\n",
    "mean_count <- mean(interval_counts)\n",
    "\n",
    "# Calcular o desvio absoluto entre este valor e o valor esperado (teórico) do número de acontecimentos num subintervalo.\n",
    "expected_count <- lambda\n",
    "abs_deviation <- abs(mean_count - expected_count)"
   ]
  },
  {
   "cell_type": "code",
   "execution_count": 46,
   "metadata": {
    "vscode": {
     "languageId": "r"
    }
   },
   "outputs": [
    {
     "data": {
      "text/html": [
       "23.9592"
      ],
      "text/latex": [
       "23.9592"
      ],
      "text/markdown": [
       "23.9592"
      ],
      "text/plain": [
       "[1] 23.9592"
      ]
     },
     "metadata": {},
     "output_type": "display_data"
    }
   ],
   "source": [
    "# Arredondar o desvio absoluto a 4 casas decimais.\n",
    "rounded_abs_deviation <- round(abs_deviation, 4)\n",
    "\n",
    "rounded_abs_deviation"
   ]
  }
 ],
 "metadata": {
  "kernelspec": {
   "display_name": "R",
   "language": "R",
   "name": "ir"
  },
  "language_info": {
   "codemirror_mode": "r",
   "file_extension": ".r",
   "mimetype": "text/x-r-source",
   "name": "R",
   "pygments_lexer": "r",
   "version": "4.2.3"
  },
  "orig_nbformat": 4
 },
 "nbformat": 4,
 "nbformat_minor": 2
}

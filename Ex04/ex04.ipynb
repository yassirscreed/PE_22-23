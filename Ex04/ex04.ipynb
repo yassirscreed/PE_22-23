{
 "cells": [
  {
   "cell_type": "code",
   "execution_count": 53,
   "metadata": {
    "vscode": {
     "languageId": "r"
    }
   },
   "outputs": [
    {
     "data": {
      "text/html": [
       "0.555"
      ],
      "text/latex": [
       "0.555"
      ],
      "text/markdown": [
       "0.555"
      ],
      "text/plain": [
       "[1] 0.555"
      ]
     },
     "metadata": {},
     "output_type": "display_data"
    }
   ],
   "source": [
    "# 1.\n",
    "set.seed(2975)\n",
    "lambda <- 24\n",
    "k <- 4478\n",
    "#distribuição Exponencial de parâmetro λ=24\n",
    "samples <- rexp(k, rate = lambda)\n",
    "\n",
    "# 2.\n",
    "cumulative_sums <- cumsum(samples)\n",
    "T <- ceiling(cumulative_sums[k])\n",
    "\n",
    "# 3.\n",
    "interval_breaks <- 0:T\n",
    "occurances <- hist(cumulative_sums, breaks = interval_breaks, plot = FALSE)$counts\n",
    "\n",
    "# 4.\n",
    "mean_occurances <- mean(occurances)\n",
    "expected_occurances <- lambda # na distribuição Poisson, a média é igual ao parâmetro λ\n",
    "abs_deviation <- abs(mean_occurances - expected_occurances)\n",
    "\n",
    "round(abs_deviation, 4)\n"
   ]
  }
 ],
 "metadata": {
  "kernelspec": {
   "display_name": "R",
   "language": "R",
   "name": "ir"
  },
  "language_info": {
   "codemirror_mode": "r",
   "file_extension": ".r",
   "mimetype": "text/x-r-source",
   "name": "R",
   "pygments_lexer": "r",
   "version": "4.1.2"
  },
  "orig_nbformat": 4
 },
 "nbformat": 4,
 "nbformat_minor": 2
}

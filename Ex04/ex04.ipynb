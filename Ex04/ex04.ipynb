{
 "cells": [
  {
   "cell_type": "code",
   "execution_count": 8,
   "metadata": {
    "vscode": {
     "languageId": "r"
    }
   },
   "outputs": [],
   "source": [
    "# Imports\n",
    "library(\"tidyverse\")"
   ]
  },
  {
   "cell_type": "code",
   "execution_count": 9,
   "metadata": {
    "vscode": {
     "languageId": "r"
    }
   },
   "outputs": [],
   "source": [
    "# set seed and data\n",
    "set.seed(3652)\n",
    "k <- 2444\n",
    "lambda <- 25\n",
    "amostra <- rexp(k, rate = 1/lambda)"
   ]
  },
  {
   "cell_type": "code",
   "execution_count": 10,
   "metadata": {
    "vscode": {
     "languageId": "r"
    }
   },
   "outputs": [],
   "source": [
    "# soma sucessiva e valor de T\n",
    "soma_sucessiva <- cumsum(amostra)\n",
    "T <- ceiling(soma_sucessiva[k])"
   ]
  },
  {
   "cell_type": "code",
   "execution_count": 11,
   "metadata": {
    "vscode": {
     "languageId": "r"
    }
   },
   "outputs": [],
   "source": [
    "# Divida o intervalo ]0,T] em intervalos de amplitude unitária e conte o número de acontecimentos em cada subintervalo\n",
    "intervalos <- 1:T\n",
    "contagem <- hist(soma_sucessiva, breaks = seq(0, T, 1), plot = FALSE)$counts"
   ]
  },
  {
   "cell_type": "code",
   "execution_count": 14,
   "metadata": {
    "vscode": {
     "languageId": "r"
    }
   },
   "outputs": [],
   "source": [
    "# média do número de acontecimentos por subintervalo e valor esperado\n",
    "media_contagem <- mean(contagem)\n",
    "valor_esperado <- lambda\n",
    "# Calcule o desvio absoluto em relação ao valor esperado (teórico)\n",
    "desvio_absoluto <- abs(media_contagem - valor_esperado)"
   ]
  },
  {
   "cell_type": "code",
   "execution_count": 15,
   "metadata": {
    "vscode": {
     "languageId": "r"
    }
   },
   "outputs": [
    {
     "data": {
      "text/html": [
       "24.9604"
      ],
      "text/latex": [
       "24.9604"
      ],
      "text/markdown": [
       "24.9604"
      ],
      "text/plain": [
       "[1] 24.9604"
      ]
     },
     "metadata": {},
     "output_type": "display_data"
    }
   ],
   "source": [
    "# 4 casas decimais\n",
    "desvio_absoluto_arredondado <- round(desvio_absoluto, 4)\n",
    "desvio_absoluto_arredondado"
   ]
  }
 ],
 "metadata": {
  "kernelspec": {
   "display_name": "R",
   "language": "R",
   "name": "ir"
  },
  "language_info": {
   "codemirror_mode": "r",
   "file_extension": ".r",
   "mimetype": "text/x-r-source",
   "name": "R",
   "pygments_lexer": "r",
   "version": "4.2.3"
  },
  "orig_nbformat": 4
 },
 "nbformat": 4,
 "nbformat_minor": 2
}
